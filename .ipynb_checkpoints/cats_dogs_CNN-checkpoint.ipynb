{
 "cells": [
  {
   "cell_type": "code",
   "execution_count": 1,
   "metadata": {},
   "outputs": [],
   "source": [
    "data_dir = \"../../data_ml_2020/cat_dog_data\""
   ]
  },
  {
   "cell_type": "code",
   "execution_count": 2,
   "metadata": {},
   "outputs": [],
   "source": [
    "import numpy as np\n",
    "import matplotlib.pyplot as plt\n",
    "%matplotlib inline\n",
    "from warnings import simplefilter\n",
    "# ignore all future warnings\n",
    "simplefilter(action='ignore', category=FutureWarning)\n",
    "\n",
    "from PIL import Image\n",
    "from keras import preprocessing"
   ]
  },
  {
   "cell_type": "code",
   "execution_count": 3,
   "metadata": {},
   "outputs": [
    {
     "name": "stdout",
     "output_type": "stream",
     "text": [
      "['.DS_Store', 'random_test_set', 'training_set', 'test_set']\n"
     ]
    }
   ],
   "source": [
    "import os\n",
    "cwd = os.getcwd()\n",
    "os.chdir(cwd)\n",
    "print(os.listdir(data_dir))"
   ]
  },
  {
   "cell_type": "code",
   "execution_count": 4,
   "metadata": {},
   "outputs": [
    {
     "data": {
      "text/plain": [
       "(4000, 4000)"
      ]
     },
     "execution_count": 4,
     "metadata": {},
     "output_type": "execute_result"
    }
   ],
   "source": [
    "train_cats_files = []\n",
    "train_path_cats = data_dir +\"/training_set/cats/\"\n",
    "for path in os.listdir(train_path_cats):\n",
    "    if '.jpg' in path:\n",
    "        train_cats_files.append(os.path.join(train_path_cats, path))\n",
    "        \n",
    "\n",
    "        \n",
    "train_dogs_files = []\n",
    "train_path_dogs = data_dir +\"/training_set/dogs/\"\n",
    "for path in os.listdir(train_path_dogs):\n",
    "    if '.jpg' in path:\n",
    "        train_dogs_files.append(os.path.join(train_path_dogs, path))\n",
    "        \n",
    "len(train_cats_files), len(train_dogs_files)"
   ]
  },
  {
   "cell_type": "code",
   "execution_count": 5,
   "metadata": {},
   "outputs": [],
   "source": [
    "k = 200\n",
    "sample_dog_file = train_dogs_files[k]\n",
    "img = preprocessing.image.load_img(sample_dog_file, target_size=(64, 64))\n",
    "img_array = preprocessing.image.img_to_array(img)"
   ]
  },
  {
   "cell_type": "code",
   "execution_count": 6,
   "metadata": {},
   "outputs": [
    {
     "data": {
      "text/plain": [
       "<matplotlib.image.AxesImage at 0x7f980a4d37f0>"
      ]
     },
     "execution_count": 6,
     "metadata": {},
     "output_type": "execute_result"
    },
    {
     "data": {
      "image/png": "[encoded data removed]",
      "text/plain": [
       "<Figure size 432x288 with 1 Axes>"
      ]
     },
     "metadata": {
      "needs_background": "light"
     },
     "output_type": "display_data"
    }
   ],
   "source": [
    "plt.imshow(np.uint8(img_array))"
   ]
  },
  {
   "cell_type": "code",
   "execution_count": 7,
   "metadata": {},
   "outputs": [
    {
     "data": {
      "text/plain": [
       "(64, 64, 3)"
      ]
     },
     "execution_count": 7,
     "metadata": {},
     "output_type": "execute_result"
    }
   ],
   "source": [
    "img_array.shape\n",
    "# print(img_array)"
   ]
  },
  {
   "cell_type": "code",
   "execution_count": 8,
   "metadata": {},
   "outputs": [
    {
     "data": {
      "text/plain": [
       "(8000, 32, 32, 3)"
      ]
     },
     "execution_count": 8,
     "metadata": {},
     "output_type": "execute_result"
    }
   ],
   "source": [
    "# image dimensions: using 32x32 pixels just for speed\n",
    "d = 32\n",
    "X_train_orig = np.zeros((8000, d, d, 3), dtype='float32')\n",
    "for i in range(4000):    \n",
    "    path = train_cats_files[i]\n",
    "    img = preprocessing.image.load_img(path, target_size=(d, d))\n",
    "    X_train_orig[i] = preprocessing.image.img_to_array(img)\n",
    "\n",
    "for i in range(4000,8000):    \n",
    "    path = train_dogs_files[i-4000]\n",
    "    img = preprocessing.image.load_img(path, target_size=(d, d))\n",
    "    X_train_orig[i] = preprocessing.image.img_to_array(img)    \n",
    "\n",
    "X_train_orig.shape"
   ]
  },
  {
   "cell_type": "code",
   "execution_count": 9,
   "metadata": {},
   "outputs": [
    {
     "data": {
      "text/plain": [
       "array([[[[0.14901961, 0.10980392, 0.07450981],\n",
       "         [0.13333334, 0.10588235, 0.06666667],\n",
       "         [0.14117648, 0.10196079, 0.06666667],\n",
       "         ...,\n",
       "         [0.40392157, 0.23137255, 0.1254902 ],\n",
       "         [0.42745098, 0.27058825, 0.17254902],\n",
       "         [0.4117647 , 0.2784314 , 0.17254902]],\n",
       "\n",
       "        [[0.13725491, 0.09803922, 0.0627451 ],\n",
       "         [0.16078432, 0.12156863, 0.08627451],\n",
       "         [0.16078432, 0.11372549, 0.12156863],\n",
       "         ...,\n",
       "         [0.4392157 , 0.2784314 , 0.2       ],\n",
       "         [0.41960785, 0.28627452, 0.18039216],\n",
       "         [0.42745098, 0.30980393, 0.21568628]],\n",
       "\n",
       "        [[0.14509805, 0.10588235, 0.07058824],\n",
       "         [0.16862746, 0.12941177, 0.09411765],\n",
       "         [0.7607843 , 0.7176471 , 0.7411765 ],\n",
       "         ...,\n",
       "         [0.43137255, 0.29411766, 0.1764706 ],\n",
       "         [0.42745098, 0.3019608 , 0.21176471],\n",
       "         [0.42745098, 0.30980393, 0.21568628]],\n",
       "\n",
       "        ...,\n",
       "\n",
       "        [[0.3372549 , 0.27058825, 0.20784314],\n",
       "         [0.3647059 , 0.30588236, 0.23137255],\n",
       "         [0.36078432, 0.3019608 , 0.22745098],\n",
       "         ...,\n",
       "         [0.10588235, 0.07843138, 0.05490196],\n",
       "         [0.03529412, 0.01568628, 0.        ],\n",
       "         [0.18431373, 0.13725491, 0.07450981]],\n",
       "\n",
       "        [[0.32156864, 0.25882354, 0.2       ],\n",
       "         [0.28235295, 0.21960784, 0.16078432],\n",
       "         [0.2901961 , 0.22745098, 0.16470589],\n",
       "         ...,\n",
       "         [0.00392157, 0.02352941, 0.03529412],\n",
       "         [0.07843138, 0.07843138, 0.07058824],\n",
       "         [0.21960784, 0.15294118, 0.08235294]],\n",
       "\n",
       "        [[0.23137255, 0.17254902, 0.14509805],\n",
       "         [0.30588236, 0.24313726, 0.18431373],\n",
       "         [0.33333334, 0.28627452, 0.2       ],\n",
       "         ...,\n",
       "         [0.15294118, 0.12156863, 0.07058824],\n",
       "         [0.21176471, 0.15686275, 0.10588235],\n",
       "         [0.2       , 0.15294118, 0.09803922]]],\n",
       "\n",
       "\n",
       "       [[[0.57254905, 0.49803922, 0.27058825],\n",
       "         [0.65882355, 0.6392157 , 0.49019608],\n",
       "         [0.27058825, 0.2509804 , 0.1254902 ],\n",
       "         ...,\n",
       "         [0.27450982, 0.21176471, 0.12156863],\n",
       "         [0.11372549, 0.09803922, 0.0627451 ],\n",
       "         [0.12941177, 0.11372549, 0.07843138]],\n",
       "\n",
       "        [[0.1764706 , 0.13333334, 0.0627451 ],\n",
       "         [0.7294118 , 0.70980394, 0.5921569 ],\n",
       "         [0.10980392, 0.09411765, 0.05882353],\n",
       "         ...,\n",
       "         [0.29803923, 0.21568628, 0.10980392],\n",
       "         [0.11372549, 0.08627451, 0.05490196],\n",
       "         [0.13725491, 0.10980392, 0.07843138]],\n",
       "\n",
       "        [[0.14509805, 0.12941177, 0.08235294],\n",
       "         [0.7490196 , 0.7294118 , 0.6117647 ],\n",
       "         [0.48235294, 0.4627451 , 0.4509804 ],\n",
       "         ...,\n",
       "         [0.30980393, 0.22745098, 0.11372549],\n",
       "         [0.13333334, 0.10588235, 0.07450981],\n",
       "         [0.15294118, 0.1254902 , 0.09411765]],\n",
       "\n",
       "        ...,\n",
       "\n",
       "        [[0.83137256, 0.83137256, 0.8235294 ],\n",
       "         [0.6509804 , 0.6509804 , 0.6039216 ],\n",
       "         [0.60784316, 0.59607846, 0.5686275 ],\n",
       "         ...,\n",
       "         [0.25882354, 0.23921569, 0.22745098],\n",
       "         [0.23137255, 0.21176471, 0.2       ],\n",
       "         [0.21960784, 0.2       , 0.1882353 ]],\n",
       "\n",
       "        [[0.7294118 , 0.7254902 , 0.70980394],\n",
       "         [0.73333335, 0.7294118 , 0.7137255 ],\n",
       "         [0.7137255 , 0.70980394, 0.69411767],\n",
       "         ...,\n",
       "         [0.26666668, 0.24705882, 0.23529412],\n",
       "         [0.22745098, 0.20784314, 0.19607843],\n",
       "         [0.22745098, 0.20784314, 0.19607843]],\n",
       "\n",
       "        [[0.81960785, 0.8117647 , 0.8235294 ],\n",
       "         [0.827451  , 0.81960785, 0.8235294 ],\n",
       "         [0.83137256, 0.8235294 , 0.827451  ],\n",
       "         ...,\n",
       "         [0.26666668, 0.24705882, 0.23529412],\n",
       "         [0.23921569, 0.21960784, 0.20784314],\n",
       "         [0.24705882, 0.22745098, 0.21568628]]],\n",
       "\n",
       "\n",
       "       [[[1.        , 1.        , 1.        ],\n",
       "         [1.        , 1.        , 1.        ],\n",
       "         [0.60784316, 0.5803922 , 0.5568628 ],\n",
       "         ...,\n",
       "         [0.50980395, 0.46666667, 0.44313726],\n",
       "         [0.42352942, 0.40392157, 0.39215687],\n",
       "         [0.4117647 , 0.39215687, 0.36862746]],\n",
       "\n",
       "        [[1.        , 1.        , 1.        ],\n",
       "         [0.99607843, 0.99607843, 0.99607843],\n",
       "         [0.5686275 , 0.5411765 , 0.5176471 ],\n",
       "         ...,\n",
       "         [0.52156866, 0.47843137, 0.45490196],\n",
       "         [0.41960785, 0.4       , 0.3882353 ],\n",
       "         [0.2901961 , 0.28235295, 0.3019608 ]],\n",
       "\n",
       "        [[1.        , 1.        , 1.        ],\n",
       "         [0.99607843, 0.99607843, 0.99607843],\n",
       "         [0.5568628 , 0.5294118 , 0.5058824 ],\n",
       "         ...,\n",
       "         [0.53333336, 0.49019608, 0.46666667],\n",
       "         [0.41960785, 0.4       , 0.3882353 ],\n",
       "         [0.26666668, 0.27058825, 0.2784314 ]],\n",
       "\n",
       "        ...,\n",
       "\n",
       "        [[0.46666667, 0.42745098, 0.41960785],\n",
       "         [0.5529412 , 0.5019608 , 0.47058824],\n",
       "         [0.5568628 , 0.50980395, 0.45490196],\n",
       "         ...,\n",
       "         [0.30980393, 0.28627452, 0.23137255],\n",
       "         [0.36862746, 0.34117648, 0.3019608 ],\n",
       "         [0.29411766, 0.2784314 , 0.24313726]],\n",
       "\n",
       "        [[0.4627451 , 0.4509804 , 0.39215687],\n",
       "         [0.6862745 , 0.654902  , 0.57254905],\n",
       "         [0.69411767, 0.6431373 , 0.60784316],\n",
       "         ...,\n",
       "         [0.3019608 , 0.2784314 , 0.22352941],\n",
       "         [0.36862746, 0.34117648, 0.3019608 ],\n",
       "         [0.3137255 , 0.29803923, 0.2627451 ]],\n",
       "\n",
       "        [[0.40392157, 0.3647059 , 0.3254902 ],\n",
       "         [0.73333335, 0.6784314 , 0.5764706 ],\n",
       "         [0.73333335, 0.6901961 , 0.5647059 ],\n",
       "         ...,\n",
       "         [0.29411766, 0.2784314 , 0.23529412],\n",
       "         [0.3647059 , 0.34901962, 0.30588236],\n",
       "         [0.31764707, 0.3019608 , 0.26666668]]],\n",
       "\n",
       "\n",
       "       ...,\n",
       "\n",
       "\n",
       "       [[[0.11372549, 0.35686275, 0.26666668],\n",
       "         [0.11372549, 0.34509805, 0.26666668],\n",
       "         [0.11764706, 0.39215687, 0.2901961 ],\n",
       "         ...,\n",
       "         [0.20784314, 0.5137255 , 0.4117647 ],\n",
       "         [0.19215687, 0.4862745 , 0.36862746],\n",
       "         [0.16470589, 0.45490196, 0.34901962]],\n",
       "\n",
       "        [[0.10588235, 0.36078432, 0.26666668],\n",
       "         [0.10588235, 0.34901962, 0.26666668],\n",
       "         [0.12156863, 0.42745098, 0.33333334],\n",
       "         ...,\n",
       "         [0.16078432, 0.46666667, 0.37254903],\n",
       "         [0.18431373, 0.48235294, 0.38039216],\n",
       "         [0.21568628, 0.5058824 , 0.4       ]],\n",
       "\n",
       "        [[0.16470589, 0.4509804 , 0.34509805],\n",
       "         [0.10588235, 0.34901962, 0.26666668],\n",
       "         [0.20392157, 0.50980395, 0.41568628],\n",
       "         ...,\n",
       "         [0.20784314, 0.5137255 , 0.41960785],\n",
       "         [0.18039216, 0.47843137, 0.3764706 ],\n",
       "         [0.13333334, 0.42352942, 0.31764707]],\n",
       "\n",
       "        ...,\n",
       "\n",
       "        [[0.5294118 , 0.3529412 , 0.2       ],\n",
       "         [0.2627451 , 0.23137255, 0.15686275],\n",
       "         [0.14901961, 0.5137255 , 0.4       ],\n",
       "         ...,\n",
       "         [0.13725491, 0.40784314, 0.29803923],\n",
       "         [0.13333334, 0.3764706 , 0.2784314 ],\n",
       "         [0.13725491, 0.37254903, 0.27450982]],\n",
       "\n",
       "        [[0.29803923, 0.31764707, 0.23137255],\n",
       "         [0.29411766, 0.36862746, 0.24313726],\n",
       "         [0.3372549 , 0.27058825, 0.15294118],\n",
       "         ...,\n",
       "         [0.14901961, 0.41960785, 0.29803923],\n",
       "         [0.14901961, 0.40784314, 0.3019608 ],\n",
       "         [0.12156863, 0.37254903, 0.27058825]],\n",
       "\n",
       "        [[0.21960784, 0.5568628 , 0.4509804 ],\n",
       "         [0.2       , 0.49803922, 0.39607844],\n",
       "         [0.20392157, 0.4862745 , 0.39215687],\n",
       "         ...,\n",
       "         [0.19607843, 0.49019608, 0.37254903],\n",
       "         [0.17254902, 0.45882353, 0.34509805],\n",
       "         [0.16470589, 0.4745098 , 0.3529412 ]]],\n",
       "\n",
       "\n",
       "       [[[0.62352943, 0.5411765 , 0.45882353],\n",
       "         [0.70980394, 0.6745098 , 0.654902  ],\n",
       "         [0.8352941 , 0.79607844, 0.75686276],\n",
       "         ...,\n",
       "         [0.49411765, 0.34509805, 0.39607844],\n",
       "         [0.39215687, 0.2627451 , 0.32941177],\n",
       "         [0.3019608 , 0.17254902, 0.2784314 ]],\n",
       "\n",
       "        [[0.6117647 , 0.5686275 , 0.4509804 ],\n",
       "         [0.6862745 , 0.6509804 , 0.6156863 ],\n",
       "         [0.827451  , 0.7882353 , 0.7490196 ],\n",
       "         ...,\n",
       "         [0.34901962, 0.23529412, 0.21960784],\n",
       "         [0.2784314 , 0.21960784, 0.20784314],\n",
       "         [0.16862746, 0.11764706, 0.14509805]],\n",
       "\n",
       "        [[0.6627451 , 0.6156863 , 0.52156866],\n",
       "         [0.6627451 , 0.627451  , 0.5921569 ],\n",
       "         [0.81960785, 0.78039217, 0.7411765 ],\n",
       "         ...,\n",
       "         [0.33333334, 0.23921569, 0.23921569],\n",
       "         [0.23137255, 0.18431373, 0.22352941],\n",
       "         [0.12156863, 0.11764706, 0.18039216]],\n",
       "\n",
       "        ...,\n",
       "\n",
       "        [[0.46666667, 0.40392157, 0.3529412 ],\n",
       "         [0.60784316, 0.62352943, 0.63529414],\n",
       "         [0.67058825, 0.6666667 , 0.6901961 ],\n",
       "         ...,\n",
       "         [0.18431373, 0.18039216, 0.21176471],\n",
       "         [0.23529412, 0.15686275, 0.2       ],\n",
       "         [0.07058824, 0.04705882, 0.04705882]],\n",
       "\n",
       "        [[0.6666667 , 0.61960787, 0.65882355],\n",
       "         [0.6156863 , 0.6039216 , 0.6392157 ],\n",
       "         [0.65882355, 0.64705884, 0.6745098 ],\n",
       "         ...,\n",
       "         [0.20784314, 0.1764706 , 0.23529412],\n",
       "         [0.21568628, 0.16470589, 0.19215687],\n",
       "         [0.22745098, 0.18039216, 0.18039216]],\n",
       "\n",
       "        [[0.5803922 , 0.57254905, 0.62352943],\n",
       "         [0.6117647 , 0.6       , 0.6431373 ],\n",
       "         [0.654902  , 0.62352943, 0.6666667 ],\n",
       "         ...,\n",
       "         [0.22745098, 0.2       , 0.22745098],\n",
       "         [0.20784314, 0.19607843, 0.23137255],\n",
       "         [0.20784314, 0.16862746, 0.17254902]]],\n",
       "\n",
       "\n",
       "       [[[0.12156863, 0.11764706, 0.10196079],\n",
       "         [0.1882353 , 0.17254902, 0.12941177],\n",
       "         [0.1254902 , 0.09411765, 0.01960784],\n",
       "         ...,\n",
       "         [0.5294118 , 0.5686275 , 0.32941177],\n",
       "         [0.3372549 , 0.3019608 , 0.14117648],\n",
       "         [0.57254905, 0.654902  , 0.43529412]],\n",
       "\n",
       "        [[0.92941177, 0.9098039 , 0.93333334],\n",
       "         [0.8784314 , 0.827451  , 0.8666667 ],\n",
       "         [0.2901961 , 0.2509804 , 0.28235295],\n",
       "         ...,\n",
       "         [0.63529414, 0.6627451 , 0.7372549 ],\n",
       "         [0.99607843, 1.        , 1.        ],\n",
       "         [0.972549  , 1.        , 0.99607843]],\n",
       "\n",
       "        [[0.90588236, 0.8862745 , 0.76862746],\n",
       "         [0.76862746, 0.7411765 , 0.627451  ],\n",
       "         [0.72156864, 0.69411767, 0.6627451 ],\n",
       "         ...,\n",
       "         [0.9882353 , 1.        , 0.99215686],\n",
       "         [0.9843137 , 0.96862745, 0.92156863],\n",
       "         [0.9607843 , 0.94509804, 0.8980392 ]],\n",
       "\n",
       "        ...,\n",
       "\n",
       "        [[0.5921569 , 0.5764706 , 0.3882353 ],\n",
       "         [0.8       , 0.6784314 , 0.5568628 ],\n",
       "         [0.6431373 , 0.5058824 , 0.3882353 ],\n",
       "         ...,\n",
       "         [0.9137255 , 0.8745098 , 0.7764706 ],\n",
       "         [0.8235294 , 0.7647059 , 0.50980395],\n",
       "         [0.43137255, 0.3764706 , 0.27058825]],\n",
       "\n",
       "        [[0.4392157 , 0.33333334, 0.21568628],\n",
       "         [1.        , 0.91764706, 0.7647059 ],\n",
       "         [0.54509807, 0.47058824, 0.3019608 ],\n",
       "         ...,\n",
       "         [0.9882353 , 0.91764706, 0.72156864],\n",
       "         [0.47843137, 0.39607844, 0.21960784],\n",
       "         [0.31764707, 0.24705882, 0.15294118]],\n",
       "\n",
       "        [[0.3254902 , 0.25490198, 0.16078432],\n",
       "         [0.5019608 , 0.43529412, 0.25490198],\n",
       "         [0.4117647 , 0.36862746, 0.25882354],\n",
       "         ...,\n",
       "         [0.90588236, 0.83137256, 0.6666667 ],\n",
       "         [0.3882353 , 0.28235295, 0.20784314],\n",
       "         [0.42352942, 0.33333334, 0.27058825]]]], dtype=float32)"
      ]
     },
     "execution_count": 9,
     "metadata": {},
     "output_type": "execute_result"
    }
   ],
   "source": [
    "# normalize training data\n",
    "X_train = X_train_orig / 255.0\n",
    "X_train"
   ]
  },
  {
   "cell_type": "code",
   "execution_count": 10,
   "metadata": {},
   "outputs": [
    {
     "name": "stdout",
     "output_type": "stream",
     "text": [
      "[1. 1. 1. ... 0. 0. 0.]\n",
      "[1. 1. 1. ... 0. 0. 0.]\n",
      "At position 3 should be a cat: 1.0\n",
      "At position 4002 should be a dog: 0.0\n"
     ]
    },
    {
     "data": {
      "text/plain": [
       "(8000,)"
      ]
     },
     "execution_count": 10,
     "metadata": {},
     "output_type": "execute_result"
    }
   ],
   "source": [
    "# class labels for train data\n",
    "\n",
    "Y_train_orig = np.ones((4000,)) # 1 - 4000 are cat pictures so our label is 1\n",
    "Y_train_orig = np.concatenate((Y_train_orig, np.zeros((4000,)))) # 4000 - 8000 are dog pictures so our label is 0\n",
    "\n",
    "print(Y_train_orig)\n",
    "\n",
    "Y_train = Y_train_orig.reshape(-1)\n",
    "print(Y_train)\n",
    "print(\"At position 3 should be a cat:\", Y_train[3])\n",
    "print(\"At position 4002 should be a dog:\", Y_train[4002])\n",
    "Y_train.shape"
   ]
  },
  {
   "cell_type": "markdown",
   "metadata": {},
   "source": [
    "For test set"
   ]
  },
  {
   "cell_type": "code",
   "execution_count": 11,
   "metadata": {},
   "outputs": [
    {
     "data": {
      "text/plain": [
       "(1000, 1000)"
      ]
     },
     "execution_count": 11,
     "metadata": {},
     "output_type": "execute_result"
    }
   ],
   "source": [
    "test_cats_files = []\n",
    "test_path_cats = data_dir +\"/test_set/cats/\"\n",
    "for path in os.listdir(test_path_cats):\n",
    "    if '.jpg' in path:\n",
    "        test_cats_files.append(os.path.join(test_path_cats, path))\n",
    "        \n",
    "\n",
    "test_dogs_files = []\n",
    "test_path_dogs = data_dir +\"/test_set/dogs/\"\n",
    "for path in os.listdir(test_path_dogs):\n",
    "    if '.jpg' in path:\n",
    "        test_dogs_files.append(os.path.join(test_path_dogs, path))\n",
    "        \n",
    "\n",
    "len(test_cats_files), len(test_dogs_files)"
   ]
  },
  {
   "cell_type": "code",
   "execution_count": 12,
   "metadata": {},
   "outputs": [
    {
     "data": {
      "text/plain": [
       "(2000, 32, 32, 3)"
      ]
     },
     "execution_count": 12,
     "metadata": {},
     "output_type": "execute_result"
    }
   ],
   "source": [
    "X_test_orig = np.zeros((2000, d, d, 3), dtype='float32')  \n",
    "\n",
    "for i in range(1000):    \n",
    "    path = test_cats_files[i]\n",
    "    img = preprocessing.image.load_img(path, target_size=(d, d))\n",
    "    X_test_orig[i] = preprocessing.image.img_to_array(img)\n",
    "\n",
    "for i in range(1000,2000):    \n",
    "    path = test_dogs_files[i-1000]\n",
    "    img = preprocessing.image.load_img(path, target_size=(d, d))\n",
    "    X_test_orig[i] = preprocessing.image.img_to_array(img)    \n",
    "\n",
    "\n",
    "X_test_orig.shape"
   ]
  },
  {
   "cell_type": "code",
   "execution_count": 13,
   "metadata": {},
   "outputs": [
    {
     "data": {
      "text/plain": [
       "array([[[[0.9254902 , 0.8901961 , 0.65882355],\n",
       "         [1.        , 0.90588236, 0.6666667 ],\n",
       "         [0.9647059 , 0.9490196 , 0.65882355],\n",
       "         ...,\n",
       "         [0.9647059 , 0.94509804, 0.6862745 ],\n",
       "         [0.9647059 , 0.9490196 , 0.65882355],\n",
       "         [0.9882353 , 0.9490196 , 0.7411765 ]],\n",
       "\n",
       "        [[0.94509804, 0.9254902 , 0.69803923],\n",
       "         [0.7137255 , 0.75686276, 0.7254902 ],\n",
       "         [0.7764706 , 0.827451  , 0.7921569 ],\n",
       "         ...,\n",
       "         [0.93333334, 0.972549  , 0.9372549 ],\n",
       "         [0.8862745 , 0.92941177, 0.8980392 ],\n",
       "         [1.        , 0.99215686, 0.90588236]],\n",
       "\n",
       "        [[0.9529412 , 0.93333334, 0.7058824 ],\n",
       "         [0.75686276, 0.8       , 0.76862746],\n",
       "         [0.75686276, 0.80784315, 0.77254903],\n",
       "         ...,\n",
       "         [0.99215686, 1.        , 0.9764706 ],\n",
       "         [0.9607843 , 0.98039216, 0.95686275],\n",
       "         [1.        , 0.99215686, 0.90588236]],\n",
       "\n",
       "        ...,\n",
       "\n",
       "        [[0.98039216, 0.92156863, 0.69803923],\n",
       "         [0.5529412 , 0.35686275, 0.16470589],\n",
       "         [0.54901963, 0.3647059 , 0.16078432],\n",
       "         ...,\n",
       "         [0.31764707, 0.25490198, 0.20392157],\n",
       "         [0.35686275, 0.3137255 , 0.20392157],\n",
       "         [0.9764706 , 1.        , 0.8666667 ]],\n",
       "\n",
       "        [[0.98039216, 0.92156863, 0.69803923],\n",
       "         [0.44705883, 0.23921569, 0.11372549],\n",
       "         [0.54509807, 0.35686275, 0.16862746],\n",
       "         ...,\n",
       "         [0.09411765, 0.14117648, 0.1254902 ],\n",
       "         [0.20784314, 0.20392157, 0.13333334],\n",
       "         [1.        , 0.99607843, 0.8784314 ]],\n",
       "\n",
       "        [[1.        , 0.89411765, 0.6509804 ],\n",
       "         [1.        , 0.9137255 , 0.7411765 ],\n",
       "         [1.        , 0.9137255 , 0.7529412 ],\n",
       "         ...,\n",
       "         [0.9764706 , 0.9254902 , 0.7490196 ],\n",
       "         [0.9529412 , 0.94509804, 0.7529412 ],\n",
       "         [0.9647059 , 0.9019608 , 0.7019608 ]]],\n",
       "\n",
       "\n",
       "       [[[0.39607844, 0.39607844, 0.3882353 ],\n",
       "         [0.41568628, 0.41568628, 0.40784314],\n",
       "         [0.43529412, 0.43529412, 0.42745098],\n",
       "         ...,\n",
       "         [0.4862745 , 0.49411765, 0.48235294],\n",
       "         [0.47843137, 0.4862745 , 0.4745098 ],\n",
       "         [0.48235294, 0.48235294, 0.48235294]],\n",
       "\n",
       "        [[0.42352942, 0.42352942, 0.41568628],\n",
       "         [0.43137255, 0.43137255, 0.42352942],\n",
       "         [0.44313726, 0.44313726, 0.43529412],\n",
       "         ...,\n",
       "         [0.49803922, 0.5058824 , 0.49411765],\n",
       "         [0.47058824, 0.47843137, 0.46666667],\n",
       "         [0.47058824, 0.47058824, 0.47058824]],\n",
       "\n",
       "        [[0.42352942, 0.43137255, 0.41960785],\n",
       "         [0.44313726, 0.44313726, 0.43529412],\n",
       "         [0.45490196, 0.45490196, 0.45490196],\n",
       "         ...,\n",
       "         [0.5137255 , 0.52156866, 0.50980395],\n",
       "         [0.50980395, 0.5176471 , 0.5137255 ],\n",
       "         [0.5019608 , 0.5019608 , 0.5019608 ]],\n",
       "\n",
       "        ...,\n",
       "\n",
       "        [[0.654902  , 0.6627451 , 0.6509804 ],\n",
       "         [0.69411767, 0.23529412, 0.25882354],\n",
       "         [0.75686276, 0.2509804 , 0.26666668],\n",
       "         ...,\n",
       "         [0.5764706 , 0.3254902 , 0.31764707],\n",
       "         [0.7411765 , 0.74509805, 0.7529412 ],\n",
       "         [0.73333335, 0.7411765 , 0.7372549 ]],\n",
       "\n",
       "        [[0.6745098 , 0.6509804 , 0.6666667 ],\n",
       "         [0.5647059 , 0.2901961 , 0.25882354],\n",
       "         [0.7019608 , 0.24313726, 0.26666668],\n",
       "         ...,\n",
       "         [0.74509805, 0.7490196 , 0.7294118 ],\n",
       "         [0.7411765 , 0.7490196 , 0.7372549 ],\n",
       "         [0.74509805, 0.7529412 , 0.7490196 ]],\n",
       "\n",
       "        [[0.64705884, 0.64705884, 0.64705884],\n",
       "         [0.6666667 , 0.6509804 , 0.60784316],\n",
       "         [0.6666667 , 0.2509804 , 0.25882354],\n",
       "         ...,\n",
       "         [0.8039216 , 0.8039216 , 0.8039216 ],\n",
       "         [0.74509805, 0.7529412 , 0.7490196 ],\n",
       "         [0.74509805, 0.7411765 , 0.72156864]]],\n",
       "\n",
       "\n",
       "       [[[0.3529412 , 0.35686275, 0.3019608 ],\n",
       "         [0.38039216, 0.35686275, 0.30980393],\n",
       "         [0.40784314, 0.39215687, 0.34509805],\n",
       "         ...,\n",
       "         [0.3254902 , 0.30980393, 0.26666668],\n",
       "         [0.38039216, 0.3647059 , 0.32941177],\n",
       "         [0.43137255, 0.41568628, 0.38039216]],\n",
       "\n",
       "        [[0.3529412 , 0.35686275, 0.3019608 ],\n",
       "         [0.4117647 , 0.41568628, 0.36078432],\n",
       "         [0.4392157 , 0.42352942, 0.3764706 ],\n",
       "         ...,\n",
       "         [0.41568628, 0.4       , 0.35686275],\n",
       "         [0.29803923, 0.28235295, 0.24705882],\n",
       "         [0.3254902 , 0.3137255 , 0.23921569]],\n",
       "\n",
       "        [[0.3764706 , 0.36078432, 0.3137255 ],\n",
       "         [0.38039216, 0.3647059 , 0.31764707],\n",
       "         [0.41568628, 0.4       , 0.3529412 ],\n",
       "         ...,\n",
       "         [0.30980393, 0.29411766, 0.24705882],\n",
       "         [0.30588236, 0.2901961 , 0.24313726],\n",
       "         [0.34117648, 0.34117648, 0.29411766]],\n",
       "\n",
       "        ...,\n",
       "\n",
       "        [[0.34117648, 0.34509805, 0.2901961 ],\n",
       "         [0.24313726, 0.25490198, 0.21960784],\n",
       "         [0.12156863, 0.13725491, 0.14117648],\n",
       "         ...,\n",
       "         [0.4745098 , 0.47843137, 0.42352942],\n",
       "         [0.5176471 , 0.5058824 , 0.44705883],\n",
       "         [0.42745098, 0.4117647 , 0.36862746]],\n",
       "\n",
       "        [[0.4117647 , 0.41568628, 0.36078432],\n",
       "         [0.52156866, 0.5137255 , 0.46666667],\n",
       "         [0.47058824, 0.49411765, 0.44705883],\n",
       "         ...,\n",
       "         [0.36078432, 0.3647059 , 0.30980393],\n",
       "         [0.48235294, 0.47058824, 0.4117647 ],\n",
       "         [0.3764706 , 0.36078432, 0.31764707]],\n",
       "\n",
       "        [[0.32156864, 0.3254902 , 0.27058825],\n",
       "         [0.6431373 , 0.64705884, 0.5921569 ],\n",
       "         [0.4745098 , 0.47843137, 0.42352942],\n",
       "         ...,\n",
       "         [0.5294118 , 0.5137255 , 0.46666667],\n",
       "         [0.45490196, 0.4392157 , 0.39215687],\n",
       "         [0.43137255, 0.41568628, 0.37254903]]],\n",
       "\n",
       "\n",
       "       ...,\n",
       "\n",
       "\n",
       "       [[[0.72156864, 0.7411765 , 0.85882354],\n",
       "         [0.7294118 , 0.7764706 , 0.8784314 ],\n",
       "         [0.7882353 , 0.8117647 , 0.8980392 ],\n",
       "         ...,\n",
       "         [0.02745098, 0.02745098, 0.01960784],\n",
       "         [0.01176471, 0.01176471, 0.01176471],\n",
       "         [0.03137255, 0.03137255, 0.03137255]],\n",
       "\n",
       "        [[0.84313726, 0.10980392, 0.21568628],\n",
       "         [0.8901961 , 0.4862745 , 0.6       ],\n",
       "         [0.9607843 , 0.8117647 , 0.87058824],\n",
       "         ...,\n",
       "         [0.06666667, 0.06666667, 0.05882353],\n",
       "         [0.05098039, 0.05098039, 0.04313726],\n",
       "         [0.01176471, 0.01176471, 0.01176471]],\n",
       "\n",
       "        [[0.8352941 , 0.27450982, 0.3529412 ],\n",
       "         [0.95686275, 0.45882353, 0.57254905],\n",
       "         [0.22745098, 0.13725491, 0.16078432],\n",
       "         ...,\n",
       "         [0.01960784, 0.01960784, 0.01176471],\n",
       "         [0.01568628, 0.01568628, 0.00784314],\n",
       "         [0.05098039, 0.05098039, 0.05098039]],\n",
       "\n",
       "        ...,\n",
       "\n",
       "        [[0.24705882, 0.23137255, 0.22745098],\n",
       "         [0.01568628, 0.01960784, 0.02745098],\n",
       "         [0.01960784, 0.02352941, 0.03137255],\n",
       "         ...,\n",
       "         [0.28235295, 0.25882354, 0.27450982],\n",
       "         [0.2509804 , 0.22745098, 0.23529412],\n",
       "         [0.28235295, 0.25882354, 0.26666668]],\n",
       "\n",
       "        [[0.02745098, 0.02745098, 0.01960784],\n",
       "         [0.29803923, 0.3019608 , 0.28235295],\n",
       "         [0.32156864, 0.29803923, 0.29803923],\n",
       "         ...,\n",
       "         [0.30588236, 0.2784314 , 0.30980393],\n",
       "         [0.2627451 , 0.23921569, 0.25490198],\n",
       "         [0.3137255 , 0.2901961 , 0.30588236]],\n",
       "\n",
       "        [[0.09803922, 0.09803922, 0.09019608],\n",
       "         [0.29411766, 0.27058825, 0.28627452],\n",
       "         [0.2509804 , 0.21960784, 0.21176471],\n",
       "         ...,\n",
       "         [0.44705883, 0.38431373, 0.3882353 ],\n",
       "         [0.16862746, 0.17254902, 0.18039216],\n",
       "         [0.2901961 , 0.26666668, 0.28235295]]],\n",
       "\n",
       "\n",
       "       [[[0.48235294, 0.3372549 , 0.2627451 ],\n",
       "         [0.5686275 , 0.40392157, 0.34901962],\n",
       "         [0.54901963, 0.40784314, 0.36078432],\n",
       "         ...,\n",
       "         [0.3764706 , 0.45882353, 0.4392157 ],\n",
       "         [0.38039216, 0.47058824, 0.44705883],\n",
       "         [0.3764706 , 0.46666667, 0.44313726]],\n",
       "\n",
       "        [[0.5176471 , 0.3882353 , 0.36078432],\n",
       "         [0.6117647 , 0.44705883, 0.39215687],\n",
       "         [0.6156863 , 0.4745098 , 0.42745098],\n",
       "         ...,\n",
       "         [0.38431373, 0.46666667, 0.44705883],\n",
       "         [0.38039216, 0.47058824, 0.44705883],\n",
       "         [0.3882353 , 0.47843137, 0.45490196]],\n",
       "\n",
       "        [[0.4627451 , 0.32156864, 0.26666668],\n",
       "         [0.6901961 , 0.5294118 , 0.45882353],\n",
       "         [0.6313726 , 0.49019608, 0.42745098],\n",
       "         ...,\n",
       "         [0.39215687, 0.48235294, 0.45882353],\n",
       "         [0.4       , 0.49019608, 0.46666667],\n",
       "         [0.39215687, 0.48235294, 0.45882353]],\n",
       "\n",
       "        ...,\n",
       "\n",
       "        [[0.20392157, 0.26666668, 0.35686275],\n",
       "         [0.20784314, 0.26666668, 0.34117648],\n",
       "         [0.20784314, 0.26666668, 0.34901962],\n",
       "         ...,\n",
       "         [0.53333336, 0.57254905, 0.61960787],\n",
       "         [0.9882353 , 1.        , 1.        ],\n",
       "         [0.54901963, 0.59607846, 0.5882353 ]],\n",
       "\n",
       "        [[0.2       , 0.2627451 , 0.3529412 ],\n",
       "         [0.19607843, 0.25490198, 0.3372549 ],\n",
       "         [0.19607843, 0.25490198, 0.32941177],\n",
       "         ...,\n",
       "         [0.36078432, 0.44313726, 0.4627451 ],\n",
       "         [0.4392157 , 0.5137255 , 0.5411765 ],\n",
       "         [0.45490196, 0.54901963, 0.54901963]],\n",
       "\n",
       "        [[0.19607843, 0.2627451 , 0.34117648],\n",
       "         [0.2       , 0.2627451 , 0.3647059 ],\n",
       "         [0.20784314, 0.27450982, 0.3529412 ],\n",
       "         ...,\n",
       "         [0.4       , 0.5137255 , 0.5058824 ],\n",
       "         [0.4       , 0.5137255 , 0.5058824 ],\n",
       "         [0.4       , 0.5137255 , 0.49803922]]],\n",
       "\n",
       "\n",
       "       [[[0.7764706 , 0.6313726 , 0.65882355],\n",
       "         [0.7647059 , 0.6117647 , 0.6313726 ],\n",
       "         [0.78431374, 0.60784316, 0.627451  ],\n",
       "         ...,\n",
       "         [0.79607844, 0.6392157 , 0.6745098 ],\n",
       "         [0.84705883, 0.6862745 , 0.7490196 ],\n",
       "         [0.8352941 , 0.6901961 , 0.72156864]],\n",
       "\n",
       "        [[0.76862746, 0.62352943, 0.6509804 ],\n",
       "         [0.76862746, 0.59607846, 0.6       ],\n",
       "         [0.6862745 , 0.5019608 , 0.4627451 ],\n",
       "         ...,\n",
       "         [0.8039216 , 0.6431373 , 0.7137255 ],\n",
       "         [0.7921569 , 0.63529414, 0.6666667 ],\n",
       "         [0.81960785, 0.6745098 , 0.7058824 ]],\n",
       "\n",
       "        [[0.7764706 , 0.6117647 , 0.627451  ],\n",
       "         [0.7411765 , 0.5686275 , 0.5568628 ],\n",
       "         [0.7058824 , 0.5176471 , 0.5019608 ],\n",
       "         ...,\n",
       "         [0.7607843 , 0.6039216 , 0.6392157 ],\n",
       "         [0.8       , 0.6431373 , 0.6784314 ],\n",
       "         [0.78431374, 0.627451  , 0.67058825]],\n",
       "\n",
       "        ...,\n",
       "\n",
       "        [[0.22352941, 0.22352941, 0.21568628],\n",
       "         [0.16862746, 0.16862746, 0.16078432],\n",
       "         [0.17254902, 0.17254902, 0.16470589],\n",
       "         ...,\n",
       "         [0.6745098 , 0.5058824 , 0.47058824],\n",
       "         [0.7372549 , 0.5921569 , 0.62352943],\n",
       "         [0.72156864, 0.54901963, 0.54509807]],\n",
       "\n",
       "        [[0.16470589, 0.16470589, 0.15686275],\n",
       "         [0.16078432, 0.16078432, 0.15294118],\n",
       "         [0.14901961, 0.14901961, 0.14117648],\n",
       "         ...,\n",
       "         [0.7372549 , 0.5647059 , 0.5686275 ],\n",
       "         [0.7058824 , 0.5686275 , 0.5529412 ],\n",
       "         [0.7490196 , 0.5568628 , 0.5372549 ]],\n",
       "\n",
       "        [[0.15294118, 0.15294118, 0.14509805],\n",
       "         [0.16078432, 0.16078432, 0.15294118],\n",
       "         [0.15294118, 0.15294118, 0.14509805],\n",
       "         ...,\n",
       "         [0.8       , 0.6431373 , 0.6784314 ],\n",
       "         [0.7294118 , 0.5529412 , 0.53333336],\n",
       "         [0.7176471 , 0.5294118 , 0.5137255 ]]]], dtype=float32)"
      ]
     },
     "execution_count": 13,
     "metadata": {},
     "output_type": "execute_result"
    }
   ],
   "source": [
    "# normalize test data\n",
    "X_test = X_test_orig / 255.0\n",
    "X_test"
   ]
  },
  {
   "cell_type": "code",
   "execution_count": 14,
   "metadata": {},
   "outputs": [
    {
     "data": {
      "text/plain": [
       "(2000,)"
      ]
     },
     "execution_count": 14,
     "metadata": {},
     "output_type": "execute_result"
    }
   ],
   "source": [
    "# create class label for test set\n",
    "Y_test_orig = np.ones((1000,)) # 1 - 1000 are cat so label = 1\n",
    "Y_test_orig = np.concatenate((Y_test_orig, np.zeros((1000,)))) # 1000 - 2000 are dog so label = 0\n",
    "\n",
    "Y_test = Y_test_orig.reshape(-1)\n",
    "Y_test.shape\n",
    "\n"
   ]
  },
  {
   "cell_type": "code",
   "execution_count": 15,
   "metadata": {},
   "outputs": [],
   "source": [
    "#from keras.utils.np_utils import to_categorical # convert to one-hot-encoding\n",
    "#Y_train = to_categorical(Y_train, num_classes=2)\n",
    "#Y_test = to_categorical(Y_test, num_classes=2)"
   ]
  },
  {
   "cell_type": "markdown",
   "metadata": {},
   "source": [
    "Building Model with CNN"
   ]
  },
  {
   "cell_type": "code",
   "execution_count": 16,
   "metadata": {},
   "outputs": [],
   "source": [
    "from sklearn.metrics import confusion_matrix\n",
    "import itertools\n",
    "\n",
    "from keras.models import Sequential\n",
    "from keras.layers import Dense, Dropout, Flatten, Conv2D, MaxPool2D\n",
    "from keras.optimizers import RMSprop,Adam\n",
    "from keras.preprocessing.image import ImageDataGenerator\n",
    "from keras.callbacks import ReduceLROnPlateau"
   ]
  },
  {
   "cell_type": "code",
   "execution_count": 175,
   "metadata": {},
   "outputs": [],
   "source": [
    "\n",
    "model = Sequential()\n",
    "#\n",
    "\n",
    "model.add(Conv2D(filters = 64, kernel_size = (3,3), \n",
    "                 activation ='relu'))\n",
    "\n",
    "model.add(MaxPool2D(pool_size=(2,2)))\n",
    "model.add(Dropout(0.25))\n",
    "\n",
    "#\n",
    "model.add(Conv2D(filters = 128, kernel_size = (3,3), \n",
    "                 activation ='relu'))\n",
    "\n",
    "model.add(MaxPool2D(pool_size=(2,2)))\n",
    "model.add(Dropout(0.25))\n",
    "\n",
    "model.add(Conv2D(filters = 256, kernel_size = (3,3), \n",
    "                 activation ='relu'))\n",
    "\n",
    "model.add(MaxPool2D(pool_size=(2,2)))\n",
    "model.add(Dropout(0.25))\n",
    "\n",
    "\n",
    "# fully connected\n",
    "model.add(Flatten())\n",
    "\n",
    "model.add(Dense(128, activation = \"relu\"))\n",
    "model.add(Dropout(0.5))\n",
    "\n",
    "model.add(Dense(1, activation = \"sigmoid\"))\n",
    "\n"
   ]
  },
  {
   "cell_type": "code",
   "execution_count": 176,
   "metadata": {},
   "outputs": [],
   "source": [
    "# Define the optimizer\n",
    "optimizer = Adam(lr=0.001, beta_1=0.9, beta_2=0.999)"
   ]
  },
  {
   "cell_type": "code",
   "execution_count": 177,
   "metadata": {},
   "outputs": [],
   "source": [
    "# Compile the model\n",
    "model.compile(optimizer = 'adam' , loss = \"binary_crossentropy\", metrics=[\"accuracy\"])"
   ]
  },
  {
   "cell_type": "code",
   "execution_count": 178,
   "metadata": {},
   "outputs": [],
   "source": [
    "#datagen = ImageDataGenerator(rescale=1./255, shear_range=0.2, zoom_range=0.2,horizontal_flip=True)\n",
    "\n",
    "#datagen.fit(X_train)"
   ]
  },
  {
   "cell_type": "code",
   "execution_count": 179,
   "metadata": {},
   "outputs": [],
   "source": [
    "epochs = 20  # for better result increase the epochs\n",
    "batch_size = 256"
   ]
  },
  {
   "cell_type": "code",
   "execution_count": 180,
   "metadata": {
    "scrolled": true
   },
   "outputs": [
    {
     "name": "stdout",
     "output_type": "stream",
     "text": [
      "Epoch 1/20\n",
      "31/31 [==============================] - 7s 227ms/step - loss: 0.6952 - accuracy: 0.5075 - val_loss: 0.6914 - val_accuracy: 0.5000\n",
      "Epoch 2/20\n",
      "31/31 [==============================] - 7s 223ms/step - loss: 0.6862 - accuracy: 0.5471 - val_loss: 0.6841 - val_accuracy: 0.5550\n",
      "Epoch 3/20\n",
      "31/31 [==============================] - 7s 222ms/step - loss: 0.6666 - accuracy: 0.6025 - val_loss: 0.6605 - val_accuracy: 0.6180\n",
      "Epoch 4/20\n",
      "31/31 [==============================] - 7s 232ms/step - loss: 0.6441 - accuracy: 0.6365 - val_loss: 0.6398 - val_accuracy: 0.6400\n",
      "Epoch 5/20\n",
      "31/31 [==============================] - 7s 236ms/step - loss: 0.6267 - accuracy: 0.6505 - val_loss: 0.6282 - val_accuracy: 0.6530\n",
      "Epoch 6/20\n",
      "31/31 [==============================] - 8s 267ms/step - loss: 0.6088 - accuracy: 0.6676 - val_loss: 0.6088 - val_accuracy: 0.6740\n",
      "Epoch 7/20\n",
      "31/31 [==============================] - 8s 243ms/step - loss: 0.5771 - accuracy: 0.7032 - val_loss: 0.5591 - val_accuracy: 0.7180\n",
      "Epoch 8/20\n",
      "31/31 [==============================] - 8s 265ms/step - loss: 0.5562 - accuracy: 0.7200 - val_loss: 0.5394 - val_accuracy: 0.7355\n",
      "Epoch 9/20\n",
      "31/31 [==============================] - 8s 255ms/step - loss: 0.5293 - accuracy: 0.7393 - val_loss: 0.5313 - val_accuracy: 0.7520\n",
      "Epoch 10/20\n",
      "31/31 [==============================] - 8s 254ms/step - loss: 0.5111 - accuracy: 0.7506 - val_loss: 0.5232 - val_accuracy: 0.7460\n",
      "Epoch 11/20\n",
      "31/31 [==============================] - 7s 234ms/step - loss: 0.4831 - accuracy: 0.7709 - val_loss: 0.4878 - val_accuracy: 0.7700\n",
      "Epoch 12/20\n",
      "31/31 [==============================] - 8s 251ms/step - loss: 0.4670 - accuracy: 0.7775 - val_loss: 0.4821 - val_accuracy: 0.7820\n",
      "Epoch 13/20\n",
      "31/31 [==============================] - 8s 254ms/step - loss: 0.4465 - accuracy: 0.7916 - val_loss: 0.4649 - val_accuracy: 0.7850\n",
      "Epoch 14/20\n",
      "31/31 [==============================] - 8s 245ms/step - loss: 0.4312 - accuracy: 0.8040 - val_loss: 0.4638 - val_accuracy: 0.7990\n",
      "Epoch 15/20\n",
      "31/31 [==============================] - 8s 246ms/step - loss: 0.3985 - accuracy: 0.8209 - val_loss: 0.4510 - val_accuracy: 0.7890\n",
      "Epoch 16/20\n",
      "31/31 [==============================] - 8s 259ms/step - loss: 0.3857 - accuracy: 0.8288 - val_loss: 0.4598 - val_accuracy: 0.7800\n",
      "Epoch 17/20\n",
      "31/31 [==============================] - 7s 235ms/step - loss: 0.3627 - accuracy: 0.8432 - val_loss: 0.4597 - val_accuracy: 0.7835\n",
      "Epoch 18/20\n",
      "31/31 [==============================] - 7s 228ms/step - loss: 0.3560 - accuracy: 0.8485 - val_loss: 0.4750 - val_accuracy: 0.7825\n",
      "Epoch 19/20\n",
      "31/31 [==============================] - 7s 230ms/step - loss: 0.3321 - accuracy: 0.8546 - val_loss: 0.4761 - val_accuracy: 0.7880\n",
      "Epoch 20/20\n",
      "31/31 [==============================] - 7s 242ms/step - loss: 0.3115 - accuracy: 0.8671 - val_loss: 0.5279 - val_accuracy: 0.7585\n"
     ]
    }
   ],
   "source": [
    "# Fit the model\n",
    "history = model.fit(X_train, Y_train, epochs = epochs, validation_data = (X_test,Y_test), steps_per_epoch=X_train.shape[0] // batch_size)\n",
    "\n",
    "#history = model.fit_generator(datagen.flow(X_train,Y_train, batch_size=batch_size),\n",
    "#                              epochs = epochs, validation_data = (X_test,Y_test), steps_per_epoch=X_train.shape[0] // batch_size)"
   ]
  },
  {
   "cell_type": "code",
   "execution_count": 22,
   "metadata": {},
   "outputs": [
    {
     "data": {
      "image/png": "[encoded data removed]",
      "text/plain": [
       "<Figure size 432x288 with 1 Axes>"
      ]
     },
     "metadata": {
      "needs_background": "light"
     },
     "output_type": "display_data"
    }
   ],
   "source": [
    "# Plot the loss and accuracy curves for training and validation \n",
    "plt.plot(history.history['val_loss'], color='b', label=\"validation loss\")\n",
    "plt.title(\"Test Loss\")\n",
    "plt.xlabel(\"Number of Epochs\")\n",
    "plt.ylabel(\"Loss\")\n",
    "plt.legend()\n",
    "plt.show()"
   ]
  },
  {
   "cell_type": "code",
   "execution_count": 24,
   "metadata": {},
   "outputs": [
    {
     "data": {
      "image/png": "[encoded data removed]",
      "text/plain": [
       "<Figure size 576x576 with 2 Axes>"
      ]
     },
     "metadata": {
      "needs_background": "light"
     },
     "output_type": "display_data"
    }
   ],
   "source": [
    "# confusion matrix\n",
    "import seaborn as sns\n",
    "\n",
    "# Predict the values from the validation dataset\n",
    "Y_pred = model.predict_classes(X_test) \n",
    "\n",
    "# compute the confusion matrix\n",
    "confusion_mtx = confusion_matrix(Y_test, Y_pred) \n",
    "\n",
    "# plot the confusion matrix\n",
    "f,ax = plt.subplots(figsize=(8, 8))\n",
    "sns.heatmap(confusion_mtx, annot=True, linewidths=0.01,cmap=\"Greens\",linecolor=\"gray\", fmt= '.1f',ax=ax)\n",
    "plt.xlabel(\"Predicted Label\")\n",
    "plt.ylabel(\"True Label\")\n",
    "plt.title(\"Confusion Matrix\")\n",
    "plt.show()"
   ]
  },
  {
   "cell_type": "markdown",
   "metadata": {},
   "source": [
    "Predicting new cat and dog"
   ]
  },
  {
   "cell_type": "code",
   "execution_count": 25,
   "metadata": {},
   "outputs": [
    {
     "name": "stdout",
     "output_type": "stream",
     "text": [
      "rand_X_test_orig.shape:  (2, 32, 32, 3)\n",
      "\n",
      "\n",
      "Predictions: \n",
      "[[1]\n",
      " [1]]\n"
     ]
    },
    {
     "data": {
      "image/png": "[encoded data removed]",
      "text/plain": [
       "<Figure size 432x288 with 1 Axes>"
      ]
     },
     "metadata": {
      "needs_background": "light"
     },
     "output_type": "display_data"
    },
    {
     "data": {
      "image/png": "[encoded data removed]",
      "text/plain": [
       "<Figure size 432x288 with 1 Axes>"
      ]
     },
     "metadata": {
      "needs_background": "light"
     },
     "output_type": "display_data"
    }
   ],
   "source": [
    "test_random_cat_path = data_dir +\"/random_test_set/rand_cat.jpg\"\n",
    "test_random_dog_path = data_dir +\"/random_test_set/rand_dog.jpg\"\n",
    "\n",
    "rand_X_test_orig = np.zeros((2, d, d, 3), dtype='float32') \n",
    "\n",
    "rand_dog_img = preprocessing.image.load_img(test_random_dog_path, target_size=(d, d))\n",
    "rand_X_test_orig[0] = preprocessing.image.img_to_array(rand_dog_img)\n",
    "\n",
    "rand_cat_img = preprocessing.image.load_img(test_random_cat_path, target_size=(d, d))\n",
    "rand_X_test_orig[1] = preprocessing.image.img_to_array(rand_cat_img)\n",
    "\n",
    "\n",
    "rand_X_test = rand_X_test_orig / 255.0\n",
    "\n",
    "print(\"rand_X_test_orig.shape: \",rand_X_test_orig.shape)\n",
    "print(\"\\n\")\n",
    "\n",
    "Y_new = model.predict_classes(rand_X_test) \n",
    "print(\"Predictions: \")\n",
    "print(Y_new)\n",
    "\n",
    "class_labels = ['dog', 'cat']\n",
    "\n",
    "for i in range(2):\n",
    "    plt.imshow(np.uint8(rand_X_test_orig[i]))\n",
    "    plt.title(\"predicted as \"+class_labels[int(Y_new[i])])\n",
    "    plt.show()"
   ]
  },
  {
   "cell_type": "code",
   "execution_count": null,
   "metadata": {},
   "outputs": [],
   "source": []
  }
 ],
 "metadata": {
  "kernelspec": {
   "display_name": "Python 3",
   "language": "python",
   "name": "python3"
  },
  "language_info": {
   "codemirror_mode": {
    "name": "ipython",
    "version": 3
   },
   "file_extension": ".py",
   "mimetype": "text/x-python",
   "name": "python",
   "nbconvert_exporter": "python",
   "pygments_lexer": "ipython3",
   "version": "3.8.3"
  }
 },
 "nbformat": 4,
 "nbformat_minor": 4
}
